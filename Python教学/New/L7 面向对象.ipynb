{
 "cells": [
  {
   "cell_type": "markdown",
   "metadata": {},
   "source": [
    "## Jacaranda Python 入门课程 - 第六节：面向对象\n",
    "                                                    - By 李显龙\n",
    "\n",
    "\n",
    "# 类 Class\n",
    "定义\n",
    "* 用来具有相同属性和行为的对象的集合，它定义了集合中每一个对象所共有的属性和行为。\n",
    "* 当我们需要对一个现实事物进行统一化重复操作的时候，为了减少工作量，我们会选择创建一个class来将他们归类，从而避免对这一类事物的共有属性进行多次编辑，从而能够更加注重于他们的不同。\n"
   ]
  },
  {
   "cell_type": "markdown",
   "metadata": {},
   "source": [
    "### 类的属性"
   ]
  },
  {
   "cell_type": "code",
   "execution_count": 1,
   "metadata": {},
   "outputs": [
    {
     "name": "stdout",
     "output_type": "stream",
     "text": [
      "Lee\n",
      "Kevin\n"
     ]
    }
   ],
   "source": [
    "# example\n",
    "class People:\n",
    "    # 记录名字\n",
    "    name = None\n",
    "# 基于类创建对象\n",
    "people_A = People()\n",
    "people_B = People()\n",
    "# 为所创建的对象属性赋值\n",
    "people_A.name = \"Lee\"\n",
    "people_B.name = \"Kevin\"\n",
    "\n",
    "print(people_A.name)\n",
    "print(people_B.name)\n",
    "\n"
   ]
  },
  {
   "cell_type": "code",
   "execution_count": 1,
   "metadata": {},
   "outputs": [
    {
     "name": "stdout",
     "output_type": "stream",
     "text": [
      "Lee\n",
      "1234567\n",
      "Kevin\n",
      "7654321\n"
     ]
    }
   ],
   "source": [
    "# practice\n",
    "# 设计一个类名为“Student”,记录名字“name”和学号“id”。然后创建两个对象“student_A”“student_B”并为对象属性进行赋值,最后将对象中记录的信息打印出来。\n",
    "# code here # \n",
    "\n",
    "\n"
   ]
  },
  {
   "cell_type": "markdown",
   "metadata": {},
   "source": [
    "### 类的行为"
   ]
  },
  {
   "cell_type": "code",
   "execution_count": null,
   "metadata": {},
   "outputs": [],
   "source": [
    "# example\n",
    "class People:\n",
    "    # 记录名字\n",
    "    name = None\n",
    "    # 记录类的方法\n",
    "    def say_hi(self):\n",
    "        print(f\"Hi, my name is {self.name}\")\n",
    "# 基于类创建对象\n",
    "people_A = People()\n",
    "people_B = People()\n",
    "# 为所创建的对象属性赋值\n",
    "people_A.name = \"Lee\"\n",
    "people_B.name = \"Kevin\"\n",
    "\n",
    "people_A.say_hi()\n",
    "people_B.say_hi()"
   ]
  },
  {
   "cell_type": "markdown",
   "metadata": {},
   "source": [
    "可以看到，在类中不仅可以定义属性来记录数据，也可以定义函数来记录行为。  \n",
    "在类中定义的属性（变量），也称之为成员变量。  \n",
    "在类中定义的行为（函数），也称之为成员方法。\n",
    "\n"
   ]
  },
  {
   "cell_type": "markdown",
   "metadata": {},
   "source": [
    "### 关于self的作用\n",
    "* 表示类对象本身的意思\n",
    "* 只有通过self，成员方法才能访问类的成员变量\n",
    "* self出现在形参列表中，但不占用参数位置"
   ]
  },
  {
   "cell_type": "code",
   "execution_count": null,
   "metadata": {},
   "outputs": [],
   "source": [
    "# example\n",
    "class People:\n",
    "    # 记录名字\n",
    "    name = None\n",
    "    # 记录类的方法\n",
    "    def say_hi(self):\n",
    "        print(f\"Hi, my name is {self.name}\")\n",
    "    # 形参1 - msg\n",
    "    def say_hi2(self, msg):\n",
    "        print(msg, f\"my name is {self.name}\")\n",
    "# 基于类创建对象\n",
    "people_A = People()\n",
    "people_B = People()\n",
    "# 为所创建的对象属性赋值\n",
    "people_A.name = \"Lee\"\n",
    "people_B.name = \"Kevin\"\n",
    "\n",
    "people_A.say_hi()\n",
    "people_B.say_hi2(\"Damn!\")"
   ]
  },
  {
   "cell_type": "markdown",
   "metadata": {},
   "source": [
    "### 构造方法\n",
    "* __init__()\n",
    "* 在创建类对象的时候，会自动执行\n",
    "* 在创建类对象的时候，将传入参数自动传递给__init__方法使用\n"
   ]
  },
  {
   "cell_type": "code",
   "execution_count": null,
   "metadata": {},
   "outputs": [],
   "source": [
    "# example\n",
    "class People:\n",
    "    # 记录名字，性别，国籍，年龄\n",
    "    name = None\n",
    "    gender  = None\n",
    "    nationalily = None\n",
    "    age = None\n",
    "\n",
    "    def __init__(self, name, gender, nationalily, age):\n",
    "        self.name = name\n",
    "        self.gender = gender\n",
    "        self.nationalily = nationalily\n",
    "        self.age = age\n",
    "\n",
    "people_A = People(\"Lee\",\"Male\", \"China\", 23)\n",
    "\n",
    "print(people_A.name)\n",
    "print(people_A.gender)\n",
    "print(people_A.nationalily)\n",
    "print(people_A.age)\n"
   ]
  },
  {
   "cell_type": "markdown",
   "metadata": {},
   "source": [
    "### 封装\n",
    "* 将现实世界实物在类中描述为属性和方法，即为封装。"
   ]
  },
  {
   "cell_type": "markdown",
   "metadata": {},
   "source": [
    "#### 私有成员\n",
    "* 现实事物有部分属性和行为不公开对使用者开放的。同样在类中描述属性和方法的时候也需要达到这个需求，就需要定义私有成员。\n",
    "* 如何定义私有成员？成员变量和成员方法的命名均以__（两个下划线）作为开头即可。"
   ]
  },
  {
   "cell_type": "code",
   "execution_count": 2,
   "metadata": {},
   "outputs": [
    {
     "name": "stdout",
     "output_type": "stream",
     "text": [
      "满功耗运行中\n"
     ]
    },
    {
     "ename": "AttributeError",
     "evalue": "'Laptop' object has no attribute '__keep_double_core'",
     "output_type": "error",
     "traceback": [
      "\u001b[1;31m---------------------------------------------------------------------------\u001b[0m",
      "\u001b[1;31mAttributeError\u001b[0m                            Traceback (most recent call last)",
      "Cell \u001b[1;32mIn[2], line 16\u001b[0m\n\u001b[0;32m     14\u001b[0m laptop\u001b[39m.\u001b[39mrun_by_fullPower()\n\u001b[0;32m     15\u001b[0m \u001b[39m# 使用私有方法\u001b[39;00m\n\u001b[1;32m---> 16\u001b[0m laptop\u001b[39m.\u001b[39;49m__keep_double_core()\n",
      "\u001b[1;31mAttributeError\u001b[0m: 'Laptop' object has no attribute '__keep_double_core'"
     ]
    }
   ],
   "source": [
    "# example\n",
    "class Laptop:\n",
    "    id = None\n",
    "    producer = None\n",
    "    __current_battery = None\n",
    "\n",
    "    def run_by_fullPower(self):\n",
    "        print(\"满功耗运行中\")\n",
    "\n",
    "    def __keep_double_core(self):\n",
    "        print(\"让CPU的双核心同时运行\")\n",
    "\n",
    "laptop = Laptop()\n",
    "laptop.run_by_fullPower()\n",
    "# 使用私有方法\n",
    "laptop.__keep_double_core()\n"
   ]
  },
  {
   "cell_type": "markdown",
   "metadata": {},
   "source": [
    "* 私有方法无法直接被类对象使用"
   ]
  },
  {
   "cell_type": "code",
   "execution_count": 3,
   "metadata": {},
   "outputs": [
    {
     "name": "stdout",
     "output_type": "stream",
     "text": [
      "None\n"
     ]
    },
    {
     "ename": "AttributeError",
     "evalue": "'Laptop' object has no attribute '__current_battery'",
     "output_type": "error",
     "traceback": [
      "\u001b[1;31m---------------------------------------------------------------------------\u001b[0m",
      "\u001b[1;31mAttributeError\u001b[0m                            Traceback (most recent call last)",
      "Cell \u001b[1;32mIn[3], line 16\u001b[0m\n\u001b[0;32m     14\u001b[0m \u001b[39mprint\u001b[39m(laptop\u001b[39m.\u001b[39mid)\n\u001b[0;32m     15\u001b[0m \u001b[39m# 使用私有方法\u001b[39;00m\n\u001b[1;32m---> 16\u001b[0m \u001b[39mprint\u001b[39m(laptop\u001b[39m.\u001b[39;49m__current_battery)\n",
      "\u001b[1;31mAttributeError\u001b[0m: 'Laptop' object has no attribute '__current_battery'"
     ]
    }
   ],
   "source": [
    "# example\n",
    "class Laptop:\n",
    "    id = None\n",
    "    producer = None\n",
    "    __current_battery = 30\n",
    "\n",
    "    def run_by_fullPower(self):\n",
    "        print(\"满功耗运行中\")\n",
    "\n",
    "    def __keep_double_core(self):\n",
    "        print(\"让CPU的双核心同时运行\")\n",
    "\n",
    "laptop = Laptop()\n",
    "print(laptop.id)\n",
    "# 使用私有方法\n",
    "print(laptop.__current_battery)"
   ]
  },
  {
   "cell_type": "markdown",
   "metadata": {},
   "source": [
    "* 私有方法无法赋值，也无法获取值"
   ]
  },
  {
   "cell_type": "code",
   "execution_count": 4,
   "metadata": {},
   "outputs": [
    {
     "name": "stdout",
     "output_type": "stream",
     "text": [
      "电量不足，无法双核心运行\n"
     ]
    }
   ],
   "source": [
    "# example\n",
    "class Laptop:\n",
    "    id = None\n",
    "    producer = None\n",
    "    __current_battery = 20\n",
    "\n",
    "    def __keep_double_core(self):\n",
    "        print(\"让CPU的双核心同时运行\")\n",
    "\n",
    "    def run_by_fullPower(self):\n",
    "        if self.__current_battery > 20:\n",
    "            self.__keep_double_core()\n",
    "        else:\n",
    "            print(\"电量不足，无法双核心运行\")\n",
    "\n",
    "\n",
    "laptop = Laptop()\n",
    "laptop.run_by_fullPower()"
   ]
  },
  {
   "cell_type": "markdown",
   "metadata": {},
   "source": [
    "* 类中的其他成员可以访问私有成员"
   ]
  },
  {
   "cell_type": "markdown",
   "metadata": {},
   "source": [
    "### 继承\n",
    "* 一个新的类可以继承一个父类的所有属性和方法\n",
    "* 同时，继承也分为单继承和多继承"
   ]
  },
  {
   "cell_type": "code",
   "execution_count": null,
   "metadata": {},
   "outputs": [],
   "source": [
    "# example\n",
    "class People:\n",
    "\n",
    "    def __init__(self, name, gender, nationalily, age):\n",
    "        self.name = name\n",
    "        self.gender = gender\n",
    "        self.nationalily = nationalily\n",
    "        self.age = age\n",
    "    \n",
    "    def walk(self):\n",
    "        print(f\"{self.name} is walking.\")\n",
    "\n",
    "class Student(People):\n",
    "    student_id = None\n",
    "    \n",
    "    def study(self):\n",
    "        print(f\"{self.name} is studying.\")\n",
    "\n",
    "student_A = Student(\"Lee\",\"Male\", \"China\", 23)\n",
    "student_A.walk()\n",
    "student_A.study()\n"
   ]
  },
  {
   "cell_type": "code",
   "execution_count": null,
   "metadata": {},
   "outputs": [],
   "source": [
    "# example\n",
    "class Laptop:\n",
    "    id = None\n",
    "    producer = None\n",
    "\n",
    "    def run_by_fullPower(self):\n",
    "        print(\"满功耗运行中\")\n",
    "\n",
    "class FaceId:\n",
    "    type = \"面部识别\"\n",
    "    def run_by_face(self):\n",
    "        print(\"面部识别开启\")\n",
    "\n",
    "class FingerId:\n",
    "    type = \"指纹识别\"\n",
    "    def run_by_finger(self):\n",
    "        print(\"指纹识别开启\")\n",
    "\n",
    "class LaptopPlus(Laptop, FaceId, FingerId):\n",
    "    pass\n",
    "\n",
    "laptop = LaptopPlus()\n",
    "laptop.run_by_fullPower()\n",
    "laptop.run_by_face()\n",
    "laptop.run_by_finger()\n"
   ]
  }
 ],
 "metadata": {
  "kernelspec": {
   "display_name": "Python 3",
   "language": "python",
   "name": "python3"
  },
  "language_info": {
   "codemirror_mode": {
    "name": "ipython",
    "version": 3
   },
   "file_extension": ".py",
   "mimetype": "text/x-python",
   "name": "python",
   "nbconvert_exporter": "python",
   "pygments_lexer": "ipython3",
   "version": "3.11.4"
  },
  "orig_nbformat": 4
 },
 "nbformat": 4,
 "nbformat_minor": 2
}
