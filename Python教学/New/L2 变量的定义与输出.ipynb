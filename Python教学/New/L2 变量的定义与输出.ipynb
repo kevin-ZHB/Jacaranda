{
 "cells": [
  {
   "attachments": {},
   "cell_type": "markdown",
   "metadata": {},
   "source": [
    "## Jacaranda Python 入门课程 - 第二节：变量的定义与输出\n",
    "                                                                                   by 周子祥"
   ]
  },
  {
   "attachments": {},
   "cell_type": "markdown",
   "metadata": {},
   "source": [
    "* 打印函数 print（）\n",
    "* 变量 variable\n",
    "* 输入函数 input（）\n",
    "\n"
   ]
  },
  {
   "attachments": {},
   "cell_type": "markdown",
   "metadata": {},
   "source": [
    "## Print ():"
   ]
  },
  {
   "attachments": {},
   "cell_type": "markdown",
   "metadata": {},
   "source": [
    "到目前为止，我们一直在使用海龟作为可视化程序输出的一种方式，但计算不仅仅是海龟（和海龟一样有趣！）。传达程序内部状态的更传统方法是通过print()如下语句："
   ]
  },
  {
   "cell_type": "code",
   "execution_count": 1,
   "metadata": {},
   "outputs": [
    {
     "name": "stdout",
     "output_type": "stream",
     "text": [
      "Hello World!\n"
     ]
    }
   ],
   "source": [
    "print(\"Hello World!\")"
   ]
  },
  {
   "attachments": {},
   "cell_type": "markdown",
   "metadata": {},
   "source": [
    "print()是Python的内置函数之一,它用于向运行 Python 程序的人显示消息。"
   ]
  },
  {
   "attachments": {},
   "cell_type": "markdown",
   "metadata": {},
   "source": [
    "#### 练习1："
   ]
  },
  {
   "attachments": {},
   "cell_type": "markdown",
   "metadata": {},
   "source": [
    "尝试打印 Jacaranda stock market society"
   ]
  },
  {
   "cell_type": "code",
   "execution_count": null,
   "metadata": {},
   "outputs": [],
   "source": []
  },
  {
   "attachments": {},
   "cell_type": "markdown",
   "metadata": {},
   "source": [
    "### 计算器：\n"
   ]
  },
  {
   "attachments": {},
   "cell_type": "markdown",
   "metadata": {},
   "source": [
    "Python在数值计算方面特别人性化，它可以用作强大的计算器。\n",
    "\n",
    "您可以输入表达式，它会为您计算答案"
   ]
  },
  {
   "cell_type": "code",
   "execution_count": 2,
   "metadata": {},
   "outputs": [
    {
     "data": {
      "text/plain": [
       "5.0"
      ]
     },
     "execution_count": 2,
     "metadata": {},
     "output_type": "execute_result"
    }
   ],
   "source": [
    "3 * 2 + 1 - 4/2"
   ]
  },
  {
   "cell_type": "code",
   "execution_count": 3,
   "metadata": {},
   "outputs": [
    {
     "name": "stdout",
     "output_type": "stream",
     "text": [
      "5.0\n",
      "2\n"
     ]
    }
   ],
   "source": [
    "1+1\n",
    "print(3*2+1 - 4/2)\n",
    "print(1+1)"
   ]
  },
  {
   "attachments": {},
   "cell_type": "markdown",
   "metadata": {},
   "source": [
    "在 Python 中，星号 ( *) 代表乘法运算符,斜杠(/)代表着除法运算符， (+),(-),分别代表加法和减法。运算顺序以标准方式处理，这意味着乘法在加法和减法之前完成，同时也可以使用圆括号()来明确操作顺序。"
   ]
  },
  {
   "cell_type": "code",
   "execution_count": 4,
   "metadata": {},
   "outputs": [
    {
     "name": "stdout",
     "output_type": "stream",
     "text": [
      "1.0\n",
      "9.0\n"
     ]
    }
   ],
   "source": [
    "print(18 / 6 / 3 )\n",
    "print(18 / (6 / 3))"
   ]
  },
  {
   "attachments": {},
   "cell_type": "markdown",
   "metadata": {},
   "source": [
    "#### 练习2："
   ]
  },
  {
   "attachments": {},
   "cell_type": "markdown",
   "metadata": {},
   "source": [
    "使用python 计算3加6的和除以9"
   ]
  },
  {
   "cell_type": "code",
   "execution_count": null,
   "metadata": {},
   "outputs": [],
   "source": []
  },
  {
   "attachments": {},
   "cell_type": "markdown",
   "metadata": {},
   "source": [
    "为什么要保留小数点位置？\n",
    "您可能已经注意到，这些结果都有小数位，而整数的加法、减法和乘法的结果始终是整数（没有小数位）。暂时，可以认为 Python 很聪明，知道整数（整数）的加法、减法和乘法总是会产生一个整数，但同样知道除法可能会产生一个非整数值，例如3 / 2. 通过在除法运算的结果中包含小数点（即使只是.0），Python 确保始终允许小数结果。"
   ]
  },
  {
   "attachments": {},
   "cell_type": "markdown",
   "metadata": {},
   "source": [
    "### 注释："
   ]
  },
  {
   "attachments": {},
   "cell_type": "markdown",
   "metadata": {},
   "source": [
    "注释是对代码块做什么（有时根据您在代码中所做的假设而言不做什么）的简单语言描述，仅供人类阅读；Python 解释器会忽略所有注释。注释为程序的读者提​​供了附加信息，例如程序的编写者、程序的用途以及程序的工作原理。一个#字符表示注释的开始。"
   ]
  },
  {
   "cell_type": "code",
   "execution_count": 5,
   "metadata": {},
   "outputs": [
    {
     "name": "stdout",
     "output_type": "stream",
     "text": [
      "This is a line of code, not a comment\n"
     ]
    }
   ],
   "source": [
    "# This is a comment. Below is a line of code:\n",
    "print(\"This is a line of code, not a comment\")\n",
    "# The next line looks like a command but isn't!\n",
    "#print(\"This won't print if you try to run it!\")"
   ]
  },
  {
   "attachments": {},
   "cell_type": "markdown",
   "metadata": {},
   "source": [
    "## 变量 variable："
   ]
  },
  {
   "attachments": {},
   "cell_type": "markdown",
   "metadata": {},
   "source": [
    "您可以使用变量存储和重用先前计算的值。每个变量对应于计算机内存中的一个位置，并且每个变量都有自己的名称。在 Python 中，变量是使用称为赋值的操作创建的，该操作为变量提供了它应该记住的值，即*变量名*和*变量的值*。"
   ]
  },
  {
   "cell_type": "code",
   "execution_count": 6,
   "metadata": {},
   "outputs": [
    {
     "name": "stdout",
     "output_type": "stream",
     "text": [
      "Hello world\n",
      "Hello! World!\n"
     ]
    }
   ],
   "source": [
    "message = \"Hello world\"\n",
    "print(message)\n",
    "\n",
    "message = \"Hello! World!\"\n",
    "print(message)"
   ]
  },
  {
   "cell_type": "code",
   "execution_count": 7,
   "metadata": {},
   "outputs": [
    {
     "name": "stdout",
     "output_type": "stream",
     "text": [
      "Hello! World!\n"
     ]
    }
   ],
   "source": [
    "message = \"Hello world\"\n",
    "\n",
    "message = \"Hello! World!\"\n",
    "print(message)"
   ]
  },
  {
   "attachments": {},
   "cell_type": "markdown",
   "metadata": {},
   "source": [
    "虽然我们说过您可以为变量命名任何名称，但实际上，您在选择变量名称时需要小心一点，并注意 Python 对变量名称的一些限制。以下是您必须遵守的规则：\n",
    "\n",
    "变量名称必须以字母或下划线 ( _) 开头。\n",
    "名称的其余部分可以包含零次或多次出现以下内容：\n",
    "* 数字 (0到9)。\n",
    "* 字母。\n",
    "* 下划线。\n",
    "\n",
    "变量名中不允许出现任何其他内容。这是一个（不完整的）列表，列出了您不能在变量名中的任何地方使用的内容：空白字符（空格、制表符、换行符，连字符)\n",
    "* 引号（单引号或双引号）\n",
    "* 符号字符，例如：问号、感叹号、括号等。\n",
    "* 以下单词在 Python中具有特殊含义，因此不能用作变量名：and, as, assert, break, class, continue, def, del, elif, else, except, , False, finally, for, from, global, if, import, in, is, lambda, None, , nonlocal, not, or, pass, raise, return, True, , .trywhilewithyield"
   ]
  },
  {
   "attachments": {},
   "cell_type": "markdown",
   "metadata": {},
   "source": [
    "### 字符串 string："
   ]
  },
  {
   "attachments": {},
   "cell_type": "markdown",
   "metadata": {},
   "source": [
    "字符串一词用于描述引号内的一段文本。\n",
    "* 如果不加引号python会识别为变量名\n",
    "* 如果变量名未被定义将会报错"
   ]
  },
  {
   "cell_type": "code",
   "execution_count": 8,
   "metadata": {},
   "outputs": [
    {
     "ename": "NameError",
     "evalue": "name 'Hello' is not defined",
     "output_type": "error",
     "traceback": [
      "\u001b[1;31m---------------------------------------------------------------------------\u001b[0m",
      "\u001b[1;31mNameError\u001b[0m                                 Traceback (most recent call last)",
      "Cell \u001b[1;32mIn[8], line 2\u001b[0m\n\u001b[0;32m      1\u001b[0m \u001b[39m# The following line causes an error:\u001b[39;00m\n\u001b[1;32m----> 2\u001b[0m \u001b[39mprint\u001b[39m(Hello, world)\n",
      "\u001b[1;31mNameError\u001b[0m: name 'Hello' is not defined"
     ]
    }
   ],
   "source": [
    "# The following line causes an error:\n",
    "print(Hello, world)"
   ]
  },
  {
   "attachments": {},
   "cell_type": "markdown",
   "metadata": {},
   "source": [
    "#### 字符串的拼接："
   ]
  },
  {
   "attachments": {},
   "cell_type": "markdown",
   "metadata": {},
   "source": [
    "Python 的一个优雅的方面是它允许您对字符串执行类似计算器的操作。例如，您可以使用+运算符将​​两个字符串“添加”在一起。\n",
    "\n",
    " \n"
   ]
  },
  {
   "cell_type": "code",
   "execution_count": null,
   "metadata": {},
   "outputs": [],
   "source": [
    "print(\"Hello \" + \"World\")"
   ]
  },
  {
   "attachments": {},
   "cell_type": "markdown",
   "metadata": {},
   "source": [
    "字符串的拼接还可以用乘法运算符号（*）"
   ]
  },
  {
   "cell_type": "code",
   "execution_count": null,
   "metadata": {},
   "outputs": [],
   "source": [
    "print('Hi' * 3)\n",
    "print('Hi' + 'Hi' + 'Hi')"
   ]
  },
  {
   "attachments": {},
   "cell_type": "markdown",
   "metadata": {},
   "source": [
    "##### 练习3:"
   ]
  },
  {
   "attachments": {},
   "cell_type": "markdown",
   "metadata": {},
   "source": [
    "尝试打出五个hello和3个world"
   ]
  },
  {
   "cell_type": "code",
   "execution_count": null,
   "metadata": {},
   "outputs": [],
   "source": []
  },
  {
   "attachments": {},
   "cell_type": "markdown",
   "metadata": {},
   "source": [
    "## 输入函数 input():"
   ]
  },
  {
   "attachments": {},
   "cell_type": "markdown",
   "metadata": {},
   "source": [
    "Python 有一个名为 的内置函数input()，可用于以字符串形式获取用户的键盘输入。该input函数可以给出一条要显示的消息，通常提示用户程序想要什么样的信息。尝试运行以下程序并输入每个问题的答案："
   ]
  },
  {
   "cell_type": "code",
   "execution_count": null,
   "metadata": {},
   "outputs": [],
   "source": [
    "name = input(\"What is your name? \")\n",
    "age = input(\"What is your age? \")\n",
    "print(\"I know that\", name, \"is\", age, \"years old!\")"
   ]
  },
  {
   "attachments": {},
   "cell_type": "markdown",
   "metadata": {},
   "source": [
    "请注意，我们print()在这里使用多个字符串（一些变量和一些文字）调用该函数，用逗号分隔。更正式地说，我们调用了具有多个参数的函数。print将参数组合在一起形成一个输出，并用空格分隔每个相邻的对或参数。\n",
    "\n",
    "这样，我们就可以编写一个Python程序，对不同的输入数据执行相同的操作或功能。"
   ]
  },
  {
   "attachments": {},
   "cell_type": "markdown",
   "metadata": {},
   "source": [
    "##### 练习4："
   ]
  },
  {
   "attachments": {},
   "cell_type": "markdown",
   "metadata": {},
   "source": [
    "询问你身边同学的名字\n",
    "\n",
    "并打印出 Nice to meet you ***！My name is ***！"
   ]
  },
  {
   "cell_type": "code",
   "execution_count": null,
   "metadata": {},
   "outputs": [],
   "source": [
    "name1 = \n",
    "name2 =\n",
    "print()"
   ]
  }
 ],
 "metadata": {
  "kernelspec": {
   "display_name": "Python 3",
   "language": "python",
   "name": "python3"
  },
  "language_info": {
   "codemirror_mode": {
    "name": "ipython",
    "version": 3
   },
   "file_extension": ".py",
   "mimetype": "text/x-python",
   "name": "python",
   "nbconvert_exporter": "python",
   "pygments_lexer": "ipython3",
   "version": "3.11.4"
  },
  "orig_nbformat": 4
 },
 "nbformat": 4,
 "nbformat_minor": 2
}
