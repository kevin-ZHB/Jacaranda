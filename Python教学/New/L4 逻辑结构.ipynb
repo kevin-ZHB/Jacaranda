{
  "cells": [
    {
      "attachments": {},
      "cell_type": "markdown",
      "metadata": {
        "id": "wvhoNOr8EjLf"
      },
      "source": [
        "## Jacaranda Python 入门课程 - 第三节：三大逻辑结构\n",
        "                                        ----Ruby 张茜雯"
      ]
    },
    {
      "attachments": {},
      "cell_type": "markdown",
      "metadata": {
        "id": "aB74B6ALFiI0"
      },
      "source": [
        "### Python 比较运算符\n",
        "| Operator|Description|\n",
        "| --- | --- |\n",
        "| == |Equal|\n",
        "| != |Not equal |\n",
        "| > |Greatr than |\n",
        "| < |Less than |\n",
        "| >= |Greater than or equal to |\n",
        "| <= |Less than or euqal to|\n",
        "\n",
        "\n",
        "### Python 逻辑运算符\n",
        "| Operator|Description|\n",
        "| --- | --- |\n",
        "| and | Returns True if both statements are true |\n",
        "| or | Returns True if one of the statements is True |\n",
        "| not | Reverse the result, returns False if the result is true |\n",
        "\n",
        "\n",
        "* 当 and, or, not 同时出现时， 优先级为 not > and > or\n",
        "\n",
        "- True and True ------ True\n",
        "- True and False ----- False\n",
        "- True or True ------- True\n",
        "- True or False ------ True\n",
        "\n",
        "\n",
        "    练习 https://www.codequizzes.com/python/beginner-I/logical-operators\n",
        "\n",
        "### Python membership Operators\n",
        "| Operator | Description |\n",
        "| --- | --- |\n",
        "| in | \tReturns True if a sequence with the specified value is present in the object |\n",
        "| not in | Returns True if a sequence with the specified value is not present in the object |"
      ]
    },
    {
      "cell_type": "code",
      "execution_count": null,
      "metadata": {
        "colab": {
          "base_uri": "https://localhost:8080/"
        },
        "id": "FCLlSkG9GBCa",
        "outputId": "1df7a118-915a-49e4-d148-738cc1bf07e3"
      },
      "outputs": [],
      "source": [
        "print(3 * (True or True and 5))"
      ]
    },
    {
      "attachments": {},
      "cell_type": "markdown",
      "metadata": {
        "id": "qnVGuZXzGKYh"
      },
      "source": [
        "## 三大逻辑结构\n",
        "- 顺序结构\n",
        "- 判断结构\n",
        "- 循环结构\n",
        "\n"
      ]
    },
    {
      "attachments": {},
      "cell_type": "markdown",
      "metadata": {
        "id": "wG6WBfocHdLp"
      },
      "source": [
        "### 顺序结构\n",
        "Python 顺序结构指的是让程序按照从头到尾的顺序依次执行每一条 Python 代码，不重复执行任何代码，也不跳过任何代码。"
      ]
    },
    {
      "attachments": {},
      "cell_type": "markdown",
      "metadata": {
        "id": "cVBFgrWTHV96"
      },
      "source": [
        "### 判断结构 if - elif - else\n",
        "Python条件语句是通过一条或多条语句的执行结果（True或者False）来决定执行的代码块。\n",
        "\n",
        "![if-condition.jpg](data:image/jpeg;base64,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)"
      ]
    },
    {
      "cell_type": "code",
      "execution_count": null,
      "metadata": {
        "id": "bGbONf2kHqbT"
      },
      "outputs": [],
      "source": [
        "a = 1\n",
        "b = 2\n",
        "\n",
        "if a > b:\n",
        "  print(\"a > b\")\n",
        "elif a < b:\n",
        "  print(\"a < b\")\n",
        "else:\n",
        "  print(\"a = b\")\n"
      ]
    },
    {
      "cell_type": "code",
      "execution_count": null,
      "metadata": {
        "id": "koENWH29IquM"
      },
      "outputs": [],
      "source": [
        "text = input(\"Enter your name: \")\n",
        "\n",
        "if text:\n",
        "  print(\"Hello, \" + text)\n",
        "else:\n",
        "  print(\"Empty input\")\n"
      ]
    },
    {
      "attachments": {},
      "cell_type": "markdown",
      "metadata": {},
      "source": [
        "if- else练习1\n",
        "请写出一个程序，输入一个数字后，判断这个数字是否是2或3的倍数。"
      ]
    },
    {
      "attachments": {},
      "cell_type": "markdown",
      "metadata": {},
      "source": [
        "if- else 练习2\n",
        "请写出一个程序，输入月份后，输出这个月份所在的季节\n",
        "\n",
        "Enter the month: 3\n",
        "It is autumn!\n",
        "\n",
        "Enter the month: 8\n",
        "\n",
        "- 12，1，2 为夏天\n",
        "- 3， 4， 5为秋季\n",
        "- 6，7，8为冬季\n",
        "- 9， 10， 11为春季"
      ]
    },
    {
      "attachments": {},
      "cell_type": "markdown",
      "metadata": {
        "id": "W01Ggs_wOnDa"
      },
      "source": [
        "## 循环结构 for / while\n"
      ]
    },
    {
      "cell_type": "code",
      "execution_count": null,
      "metadata": {
        "colab": {
          "base_uri": "https://localhost:8080/"
        },
        "id": "G7WuEwc2PG4M",
        "outputId": "ea55b1cf-e567-4649-be0e-0e39a6727719"
      },
      "outputs": [],
      "source": [
        "for i in range(5):\n",
        "  print(\"Hello\")"
      ]
    },
    {
      "cell_type": "code",
      "execution_count": null,
      "metadata": {
        "colab": {
          "base_uri": "https://localhost:8080/"
        },
        "id": "HrAHX1H_PP2j",
        "outputId": "1ea55b12-4769-42a6-eb0b-08c72822d850"
      },
      "outputs": [],
      "source": [
        "for i in range(5):\n",
        "  print(i)\n"
      ]
    },
    {
      "cell_type": "code",
      "execution_count": null,
      "metadata": {
        "colab": {
          "base_uri": "https://localhost:8080/"
        },
        "id": "Wn-on2wOPpRm",
        "outputId": "7c03995a-7361-4bea-dfd0-7739ffde49e3"
      },
      "outputs": [],
      "source": [
        "list = [\"a\", \"b\", \"c\", \"d\" ,\"e\", \"f\", \"g\"]\n",
        "\n",
        "for i in range(5):\n",
        "  print(i, list[i])"
      ]
    },
    {
      "cell_type": "code",
      "execution_count": null,
      "metadata": {
        "colab": {
          "base_uri": "https://localhost:8080/"
        },
        "id": "4W-AAVgRPZD7",
        "outputId": "bcbc391e-cc5c-45a8-f4c4-5a0cfebccacc"
      },
      "outputs": [],
      "source": [
        "for i in range(1,10,2):\n",
        "  print(i)"
      ]
    },
    {
      "cell_type": "code",
      "execution_count": null,
      "metadata": {
        "colab": {
          "base_uri": "https://localhost:8080/"
        },
        "id": "UL2su3j2PmWU",
        "outputId": "fee8c799-bfad-41fc-9d59-902adab758d1"
      },
      "outputs": [],
      "source": [
        "fruits = [\"apple\", \"banana\", \"cherry\"]\n",
        "fruits2 = [\"cherry\", \"banana\", \"apple\"]\n",
        "for x in fruits:\n",
        "  print(x)\n",
        "\n",
        "print(\"\\n\")\n",
        "\n",
        "for i in range(len(fruits)):\n",
        "  print(fruits[i])\n",
        "  # if fruits[i] == fruits2[i]:\n",
        "    # print(fruits[i])\n"
      ]
    },
    {
      "cell_type": "code",
      "execution_count": null,
      "metadata": {
        "id": "sGTqHD42QY7R"
      },
      "outputs": [],
      "source": [
        "for x in \"banana\":\n",
        "  print(x)"
      ]
    },
    {
      "cell_type": "code",
      "execution_count": null,
      "metadata": {
        "colab": {
          "base_uri": "https://localhost:8080/"
        },
        "id": "j6tr7fSIQcAw",
        "outputId": "f4bf082c-6c34-4607-dd8f-b9f0d6ef58d0"
      },
      "outputs": [],
      "source": [
        "fruits = [\"apple\", \"banana\", \"cherry\"]\n",
        "for x in fruits:\n",
        "  print(x)\n",
        "  if x == \"banana\":\n",
        "    break"
      ]
    },
    {
      "cell_type": "code",
      "execution_count": null,
      "metadata": {
        "colab": {
          "base_uri": "https://localhost:8080/"
        },
        "id": "44Q6zimUX-0z",
        "outputId": "52740c01-a3bf-4199-d304-205b43fa98e7"
      },
      "outputs": [],
      "source": [
        "names = ['Alec', 'Bindu', 'Clair', 'Dylan', 'Elliot']\n",
        "student_ids = [1234539, 8923478, 2398471, 2394872, 2398423]\n",
        "grades = ['H2B', 'H1', 'P', 'H3', 'H2B']\n",
        "\n",
        "for i in range(len(names)):\n",
        "    print(f'{names[i]} with student Id number {student_ids[i]} has grade {grades[i]} in COMP10001.')"
      ]
    },
    {
      "attachments": {},
      "cell_type": "markdown",
      "metadata": {},
      "source": [
        "For 练习1\n",
        "请写出一个程序，输出0-10分别乘3 的结果\n",
        "\n",
        "Example\n",
        "0\n",
        "3\n",
        "6\n",
        "9\n",
        "…"
      ]
    },
    {
      "attachments": {},
      "cell_type": "markdown",
      "metadata": {},
      "source": [
        "For 练习2\n",
        "难度升级，现在我们不止输出结果，要将这个等式输出。\n",
        "\n",
        "输出：\n",
        "0 * 3 = 0\n",
        "1 * 3 = 3\n",
        "2 * 3 = 6\n",
        "…"
      ]
    },
    {
      "attachments": {},
      "cell_type": "markdown",
      "metadata": {
        "id": "Xyyuf6D8RHBr"
      },
      "source": [
        "## While\n",
        "while意味着当。。。时, 因此 while 比 for 多了一个判断的动作\n",
        "\n",
        "while + 条件:\n",
        "1. 条件满足的时候就会执行，如果条件一直满足，就会一直执行\n",
        "2. 所以在使用的时候必须要有明确的停止信号，也就是让 while 后的条件变\n",
        "为 False\n",
        "3. 在简单情况下，我们一般直接在 while loop 后加具体条件\n",
        "4. 在复杂情况下，我们会建立一个变量为 flag = True，然后再 loop 中使用\n",
        "if 条件来将 flag 变为 False\n",
        "\n"
      ]
    },
    {
      "cell_type": "code",
      "execution_count": null,
      "metadata": {
        "colab": {
          "base_uri": "https://localhost:8080/"
        },
        "id": "np-qvoRdRnAs",
        "outputId": "57588ae5-f331-4d9d-8f38-e62731da76f3"
      },
      "outputs": [],
      "source": [
        "i = 0\n",
        "while i < 5:\n",
        "  print(i)\n",
        "  i += 1"
      ]
    },
    {
      "cell_type": "code",
      "execution_count": null,
      "metadata": {
        "colab": {
          "base_uri": "https://localhost:8080/"
        },
        "id": "X1A0dHxiSgzY",
        "outputId": "41155a75-2fc2-4f67-94bf-b943bc32a350"
      },
      "outputs": [],
      "source": [
        "for i in range(5):\n",
        "  print(i)"
      ]
    },
    {
      "attachments": {},
      "cell_type": "markdown",
      "metadata": {},
      "source": [
        "While练习1\n",
        "将上面的练习用while重新写一组代码，以达到相同的结果"
      ]
    },
    {
      "attachments": {},
      "cell_type": "markdown",
      "metadata": {},
      "source": [
        "While 练习2\n",
        "寻找能被6整除的第一个正整数"
      ]
    },
    {
      "attachments": {},
      "cell_type": "markdown",
      "metadata": {
        "id": "A1Bw3ZUkYyBb"
      },
      "source": [
        "## The break Statement\n",
        "With the break statement we can stop the loop even if the while condition is true:"
      ]
    },
    {
      "cell_type": "code",
      "execution_count": null,
      "metadata": {
        "colab": {
          "base_uri": "https://localhost:8080/"
        },
        "id": "VQD8_HgRY0Ve",
        "outputId": "c16e17d2-93c1-4e2f-fb90-b8314d7ed7e9"
      },
      "outputs": [],
      "source": [
        "i = 1\n",
        "while i < 6:\n",
        "  print(i)\n",
        "  if i == 3:\n",
        "    break\n",
        "  i += 1"
      ]
    },
    {
      "attachments": {},
      "cell_type": "markdown",
      "metadata": {
        "id": "F04NroMDY9G9"
      },
      "source": [
        "## The continue Statement\n",
        "With the continue statement we can **stop** the current iteration, **and continue** with the next:"
      ]
    },
    {
      "cell_type": "code",
      "execution_count": null,
      "metadata": {
        "colab": {
          "base_uri": "https://localhost:8080/"
        },
        "id": "aFNN-ALXZG-I",
        "outputId": "f450c6e5-f30d-4008-a633-e13877c848e0"
      },
      "outputs": [],
      "source": [
        "i = 0\n",
        "while i < 6:\n",
        "  i += 1\n",
        "  if i == 3:\n",
        "    continue\n",
        "  print(i)"
      ]
    },
    {
      "attachments": {},
      "cell_type": "markdown",
      "metadata": {
        "id": "OuYJ-JYMa_-m"
      },
      "source": [
        "## The else Statement\n",
        "With the else statement we can run a block of code once when the condition no longer is true:"
      ]
    },
    {
      "cell_type": "code",
      "execution_count": null,
      "metadata": {
        "colab": {
          "base_uri": "https://localhost:8080/"
        },
        "id": "FTIhD-dPbB1b",
        "outputId": "2b41366a-6faa-4c1f-f1ff-0cfa5ff19254"
      },
      "outputs": [],
      "source": [
        "i = 1\n",
        "while i < 5:\n",
        "  print(i)\n",
        "  i += 1\n",
        "else:\n",
        "  print(\"i is no longer less than 5\")"
      ]
    },
    {
      "attachments": {},
      "cell_type": "markdown",
      "metadata": {
        "id": "vIQs1A_BaRoD"
      },
      "source": [
        "## Loops Inside Loops\n",
        "A nested loop is a loop inside a loop.\n",
        "\n",
        "The \"inner loop\" will be executed one time for each iteration of the \"outer loop\":"
      ]
    },
    {
      "cell_type": "code",
      "execution_count": null,
      "metadata": {
        "colab": {
          "base_uri": "https://localhost:8080/"
        },
        "id": "KNKggePXahpv",
        "outputId": "07cbbd55-a60f-484d-a805-e59958bba96b"
      },
      "outputs": [],
      "source": [
        "adj = [\"red\", \"big\", \"tasty\"]\n",
        "fruits = [\"apple\", \"banana\", \"cherry\"]\n",
        "\n",
        "for x in adj:\n",
        "  for y in fruits:\n",
        "    print(x, y)"
      ]
    },
    {
      "attachments": {},
      "cell_type": "markdown",
      "metadata": {
        "id": "K8K32vvybXbW"
      },
      "source": [
        "## 经典练习\n",
        "请找到0-50之间的所有质数。"
      ]
    },
    {
      "cell_type": "code",
      "execution_count": null,
      "metadata": {
        "id": "cjRD2NPVbl7X"
      },
      "outputs": [],
      "source": [
        "list = [i for i in range(0,51)]\n",
        "# print(list)\n",
        "\n",
        "# write your code...\n",
        "\n",
        "\n"
      ]
    },
    {
      "attachments": {},
      "cell_type": "markdown",
      "metadata": {
        "id": "pol65w8tcCkX"
      },
      "source": [
        "## List comprehesion\n",
        "Format:\n",
        "[(expression) (for iteration statement) (optional if filter condition) ]\n"
      ]
    },
    {
      "cell_type": "code",
      "execution_count": null,
      "metadata": {
        "colab": {
          "base_uri": "https://localhost:8080/"
        },
        "id": "sk1bse_1dTFb",
        "outputId": "c61478e8-4e59-4957-afcc-7bef7362b20b"
      },
      "outputs": [],
      "source": [
        "fruits = [\"apple\", \"banana\", \"cherry\", \"kiwi\", \"mango\"]\n",
        "newlist = []\n",
        "\n",
        "for x in fruits:\n",
        "  if \"a\" in x:\n",
        "    newlist.append(x)\n",
        "\n",
        "print(newlist)"
      ]
    },
    {
      "cell_type": "code",
      "execution_count": null,
      "metadata": {
        "colab": {
          "base_uri": "https://localhost:8080/"
        },
        "id": "NeFlRCYudUu6",
        "outputId": "f5d77738-1b6d-4be4-b186-a9997285758c"
      },
      "outputs": [],
      "source": [
        "fruits = [\"apple\", \"banana\", \"cherry\", \"kiwi\", \"mango\"]\n",
        "\n",
        "newlist = [x for x in fruits if \"a\" in x]\n",
        "\n",
        "print(newlist)"
      ]
    },
    {
      "attachments": {},
      "cell_type": "markdown",
      "metadata": {
        "id": "T7H4RfAueS6-"
      },
      "source": [
        "- Curly brackets { } → evaluate into a set\n",
        "- Curly brackets { } + key:value syntax → dictionary\n",
        "- Parentheses ( ) → creates a generator (which is an efficient way of creating an iterator) – NOT a tuple!"
      ]
    },
    {
      "cell_type": "code",
      "execution_count": null,
      "metadata": {
        "colab": {
          "base_uri": "https://localhost:8080/"
        },
        "id": "bx_8KwzWeZRl",
        "outputId": "882f8b2b-db2b-4ec4-daad-e06ccf13bf61"
      },
      "outputs": [],
      "source": [
        "fruits = [\"apple\", \"banana\", \"cherry\", \"kiwi\", \"mango\"]\n",
        "\n",
        "new_list = [x for x in fruits if \"a\" in x]\n",
        "new_set = {x for x in fruits if \"a\" in x}\n",
        "new_dic = {x: len(x) for x in fruits if \"a\" in x}\n",
        "new = (x for x in fruits if \"a\" in x)\n",
        "\n",
        "print(new_list)\n",
        "print(new_set)\n",
        "print(new_dic)\n",
        "print(new)"
      ]
    },
    {
      "attachments": {},
      "cell_type": "markdown",
      "metadata": {
        "id": "c2nGojA_cArX"
      },
      "source": [
        "# 算法思想介绍\n",
        "- 暴力搜索      ——Brute Force\n",
        "- 慵懒算法      ——Lazy Evaluation\n",
        "- 递归算法      ——Recursion\n",
        "- 二分搜索      ——Binary Search"
      ]
    }
  ],
  "metadata": {
    "colab": {
      "provenance": []
    },
    "kernelspec": {
      "display_name": "Python 3",
      "name": "python3"
    },
    "language_info": {
      "name": "python"
    }
  },
  "nbformat": 4,
  "nbformat_minor": 0
}
