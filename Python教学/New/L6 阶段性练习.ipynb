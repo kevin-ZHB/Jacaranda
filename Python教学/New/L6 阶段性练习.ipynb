{
 "cells": [
  {
   "cell_type": "markdown",
   "metadata": {},
   "source": [
    "## Exercise 1:\n",
    "将输入的华氏温度转换为摄氏温度，并输出输入的华氏温度与转换后的摄氏温度\n",
    "> 提示：华氏温度到摄氏温度的转换公式为：$C=(F - 32) \\div 1.8$"
   ]
  },
  {
   "cell_type": "code",
   "execution_count": 13,
   "metadata": {},
   "outputs": [
    {
     "name": "stdout",
     "output_type": "stream",
     "text": [
      "摄氏温度为：0124.44度\n"
     ]
    }
   ],
   "source": [
    "temp_f = input(\"请输入华氏温度：\")\n",
    "temp_f = float(temp_f)\n",
    "temp_c = (temp_f - 32)/1.8\n",
    "\n",
    "print(\"摄氏温度为：%07.2f度\" %temp_c)"
   ]
  },
  {
   "cell_type": "markdown",
   "metadata": {},
   "source": [
    "## Exercise 2:\n",
    "输入半径计算圆的周长与面积"
   ]
  },
  {
   "cell_type": "code",
   "execution_count": 14,
   "metadata": {},
   "outputs": [
    {
     "name": "stdout",
     "output_type": "stream",
     "text": [
      "半径为2.00的圆的周长为: 12.56\n",
      "半径为2.00的圆的面积为: 12.56\n"
     ]
    }
   ],
   "source": [
    "radius = input(\"请输入半径长度：\")\n",
    "radius = float(radius)\n",
    "pi = 3.14\n",
    "area = pi*radius**2\n",
    "perimeter = 2*pi*radius\n",
    "print(\"半径为%0.2f的圆的周长为: %0.2f\" % (radius, perimeter))\n",
    "print(\"半径为%0.2f的圆的面积为: %0.2f\" % (radius, area))\n",
    "\n"
   ]
  },
  {
   "cell_type": "markdown",
   "metadata": {},
   "source": [
    "## Exercise 3:\n",
    "判断输入的年份是不是闰年\n",
    "> + 普通闰年：公历年份是4的倍数，且不是100的倍数的，为闰年（如2004年、2020年等就是闰年）。\n",
    "> + 世纪闰年：公历年份是整百数的，必须是400的倍数才是闰年（如1900年不是闰年，2000年是闰年）。"
   ]
  },
  {
   "cell_type": "code",
   "execution_count": 18,
   "metadata": {},
   "outputs": [
    {
     "name": "stdout",
     "output_type": "stream",
     "text": [
      "2000是闰年\n"
     ]
    }
   ],
   "source": [
    "year = input(\"请输入年份\")\n",
    "year = int(year)\n",
    "if (year % 4 == 0 and year % 100 != 0) or (year % 400 == 0):\n",
    "    print(\"%d是闰年\" % year)\n",
    "else:\n",
    "    print(\"%d不是闰年\" % year)"
   ]
  },
  {
   "cell_type": "markdown",
   "metadata": {},
   "source": [
    "## Exercise 4:\n",
    "百分制成绩转换为等级制成绩\n",
    "> **要求**：如果输入的成绩在90分以上（含90分）输出A；80分-90分（不含90分）输出B；70分-80分（不含80分）输出C；60分-70分（不含70分）输出D；60分以下输出E。"
   ]
  },
  {
   "cell_type": "code",
   "execution_count": 19,
   "metadata": {},
   "outputs": [
    {
     "name": "stdout",
     "output_type": "stream",
     "text": [
      "等级制成绩为：A\n"
     ]
    }
   ],
   "source": [
    "mark = input(\"请输入百分制成绩：\")\n",
    "mark = int(mark)\n",
    "if mark >= 90:\n",
    "    level = \"A\"\n",
    "elif mark >= 80:\n",
    "    level = \"B\"\n",
    "elif mark >= 70:\n",
    "    level = \"C\"\n",
    "elif 70 > mark >= 60:\n",
    "    level = \"D\"\n",
    "else:\n",
    "    level = \"E\"\n",
    "\n",
    "print(\"等级制成绩为：%s\" %level)"
   ]
  },
  {
   "cell_type": "markdown",
   "metadata": {},
   "source": [
    "## Exercise 5:\n",
    "给定层数，打印如下所示的三角形图案\n",
    "\n",
    "1：\n",
    "```\n",
    "*\n",
    "**\n",
    "***\n",
    "****\n",
    "*****\n",
    "```\n",
    "2：\n",
    "```\n",
    "    *\n",
    "   **\n",
    "  ***\n",
    " ****\n",
    "*****\n",
    "```\n",
    "3：\n",
    "```\n",
    "    *\n",
    "   ***\n",
    "  *****\n",
    " *******\n",
    "*********\n",
    "```"
   ]
  },
  {
   "cell_type": "code",
   "execution_count": 25,
   "metadata": {},
   "outputs": [
    {
     "name": "stdout",
     "output_type": "stream",
     "text": [
      "*\n",
      "**\n",
      "***\n",
      "****\n",
      "*****\n",
      "    *\n",
      "   **\n",
      "  ***\n",
      " ****\n",
      "*****\n",
      "    *    \n",
      "   ***   \n",
      "  *****  \n",
      " ******* \n",
      "*********\n"
     ]
    }
   ],
   "source": [
    "number = input(\"请输入层数：\")\n",
    "number = int(number)\n",
    "\n",
    "for i in range(number):\n",
    "    i = i + 1\n",
    "    print(\"*\"*i)\n",
    "\n",
    "for i in range(number):\n",
    "    i = i+1\n",
    "    print(\" \"*(number-i)+\"*\"*(i))\n",
    "\n",
    "for i in range(number):\n",
    "    i = i+1\n",
    "    blank = number-i\n",
    "    print(\" \"*blank+\"*\"*(i*2-1)+\" \"*blank)"
   ]
  },
  {
   "cell_type": "markdown",
   "metadata": {},
   "source": [
    "## Exercise 6\n",
    "寻找1000以内的**水仙花数**。\n",
    "\n",
    "   > **说明**：水仙花数也被称为超完全数字不变数、自恋数、自幂数、阿姆斯特朗数，它是一个3位数，该数字每个位上数字的立方之和正好等于它本身，例如：$1^3 + 5^3+ 3^3=153$。"
   ]
  },
  {
   "cell_type": "code",
   "execution_count": 30,
   "metadata": {},
   "outputs": [
    {
     "name": "stdout",
     "output_type": "stream",
     "text": [
      "first: 1\n",
      "second: 5\n",
      "third: 3\n",
      "this is a 水仙花数：153\n",
      "first: 3\n",
      "second: 7\n",
      "third: 0\n",
      "this is a 水仙花数：370\n",
      "first: 3\n",
      "second: 7\n",
      "third: 1\n",
      "this is a 水仙花数：371\n",
      "first: 4\n",
      "second: 0\n",
      "third: 7\n",
      "this is a 水仙花数：407\n"
     ]
    }
   ],
   "source": [
    "for i in range(100,1000):\n",
    "    first = i//100 %10 # 取百分位\n",
    "    second = i//10 %10 # 取十分位\n",
    "    third = i%10 # 取个位\n",
    "\n",
    "    if first **3 + second**3 + third**3 == i:\n",
    "        print(\"first: %d\" %first)\n",
    "        print(\"second: %d\" %second)\n",
    "        print(\"third: %d\" %third)\n",
    "        print(\"this is a 水仙花数：%d\" %i)"
   ]
  },
  {
   "cell_type": "markdown",
   "metadata": {},
   "source": [
    "## * Challenge\n",
    "**CRAPS赌博游戏**。\n",
    "\n",
    "   > **说明**：CRAPS又称花旗骰，是美国拉斯维加斯非常受欢迎的一种的桌上赌博游戏。该游戏使用两粒骰子，玩家通过摇两粒骰子获得点数进行游戏。简单的规则是：玩家第一次摇骰子如果摇出了7点或11点，玩家胜；玩家第一次如果摇出2点、3点或12点，庄家胜；其他点数玩家继续摇骰子，如果玩家摇出了7点，庄家胜；如果玩家摇出了第一次摇的点数，玩家胜；其他点数，玩家继续要骰子，直到分出胜负。"
   ]
  },
  {
   "cell_type": "code",
   "execution_count": null,
   "metadata": {},
   "outputs": [],
   "source": [
    "from random import randint\n",
    "\n",
    "# 随机生成1到6的数字\n",
    "number = randint(1,6) "
   ]
  }
 ],
 "metadata": {
  "kernelspec": {
   "display_name": "Python 3",
   "language": "python",
   "name": "python3"
  },
  "language_info": {
   "codemirror_mode": {
    "name": "ipython",
    "version": 3
   },
   "file_extension": ".py",
   "mimetype": "text/x-python",
   "name": "python",
   "nbconvert_exporter": "python",
   "pygments_lexer": "ipython3",
   "version": "3.10.7"
  },
  "orig_nbformat": 4
 },
 "nbformat": 4,
 "nbformat_minor": 2
}
