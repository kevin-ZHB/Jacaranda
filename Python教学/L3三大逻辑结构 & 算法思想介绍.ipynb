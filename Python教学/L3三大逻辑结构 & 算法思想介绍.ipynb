{
 "cells": [
  {
   "attachments": {},
   "cell_type": "markdown",
   "metadata": {},
   "source": [
    "## Jacaranda Python 入门课程 - 第三节：三大逻辑结构 & 算法思想介绍\n",
    "                                                - By 陈晓蓥Shirley"
   ]
  },
  {
   "attachments": {},
   "cell_type": "markdown",
   "metadata": {},
   "source": [
    "# 三大逻辑结构\n",
    "- 条件结构 （if, elif, else)\n",
    "- 循环结构 （for loop, while loop)\n",
    "- 试错结构 （try-except-else-finally)\n"
   ]
  },
  {
   "attachments": {},
   "cell_type": "markdown",
   "metadata": {},
   "source": [
    "# 算法思想介绍\n",
    "- 暴力搜索      ——Brute Force \n",
    "- 慵懒算法      ——Lazy Evaluation\n",
    "- 递归算法      ——Recursion\n",
    "- 二分搜索      ——Binary Search "
   ]
  },
  {
   "attachments": {},
   "cell_type": "markdown",
   "metadata": {},
   "source": [
    "<b> Before we start🤗... </b>\n",
    "<br>先来做一道运算符优先级问题热热身吧！"
   ]
  },
  {
   "cell_type": "code",
   "execution_count": 20,
   "metadata": {},
   "outputs": [
    {
     "name": "stdout",
     "output_type": "stream",
     "text": [
      "51.0\n"
     ]
    }
   ],
   "source": [
    "# task1: what will it print\n",
    "a = 10\n",
    "b = 5\n",
    "c = 2\n",
    "\n",
    "result = a * b + c ** 2 / 4\n",
    "print(result)"
   ]
  },
  {
   "cell_type": "code",
   "execution_count": 21,
   "metadata": {},
   "outputs": [
    {
     "name": "stdout",
     "output_type": "stream",
     "text": [
      "True\n"
     ]
    }
   ],
   "source": [
    "# task2: true or false?\n",
    "k = 2 ** 4 % 16 | True == 1\n",
    "print(k)"
   ]
  },
  {
   "attachments": {},
   "cell_type": "markdown",
   "metadata": {},
   "source": [
    "<b>Operator precedence </b>affects how an expression is evaluated.\n",
    "<br>我们用添加括号的方式来表示运算的顺序\n",
    "<br>result = a * b + （c ** 2） / 4 \n",
    "<br>或者增加readability "
   ]
  },
  {
   "attachments": {},
   "cell_type": "markdown",
   "metadata": {},
   "source": [
    "| Operator|\tDescription|\n",
    "| --- | --- |   \n",
    "| **\t|Exponentiation (raise to the power)|\n",
    "| ~ + -\t|Complement, unary plus and minus |\n",
    "| * / % //\t|Multiply, divide, modulo and floor division|\n",
    "| + -\t|Addition and subtraction|\n",
    "| >> <<\t|Right and left bitwise shift|\n",
    "| &\t|Bitwise 'AND'td>|\n",
    "| ^ \\|\t|Bitwise exclusive `OR' and regular `OR'|\n",
    "| <= < > >=\t|Comparison operators|\n",
    "| <> == !=\t|Equality operators|\n",
    "| = %= /= //= -= += *= **=\t|Assignment operators|\n",
    "| is is not\t|Identity operators|\n",
    "| in not in\t|Membership operators|\n",
    "| not or and\t|Logical operators|"
   ]
  },
  {
   "attachments": {},
   "cell_type": "markdown",
   "metadata": {},
   "source": [
    "#### 正课开始 💅"
   ]
  },
  {
   "attachments": {},
   "cell_type": "markdown",
   "metadata": {},
   "source": [
    "## If-elif-else"
   ]
  },
  {
   "cell_type": "code",
   "execution_count": 22,
   "metadata": {},
   "outputs": [
    {
     "name": "stdout",
     "output_type": "stream",
     "text": [
      "1\n"
     ]
    }
   ],
   "source": [
    "a = 0\n",
    "# ========== 条件结构 ==========\n",
    "if a <= 0 :\n",
    "    print(1)\n",
    "elif a <= 100:\n",
    "    print(2)\n",
    "else:\n",
    "    print(3)"
   ]
  },
  {
   "attachments": {},
   "cell_type": "markdown",
   "metadata": {},
   "source": [
    "注意点\n",
    "1. Python 的阅读顺序是从上到下的，所以当上面的条件被满足的时候，下\n",
    "面的代码就不会继续执行，所以当使用条件语句的时候，要把最精细的条\n",
    "件最先给出，最粗略的条件最后给出\n",
    "2. If 条件用来排除掉一些不符合格式的输入，比如当接下来的操作不能是空\n",
    "list 的时候，可以使用 if not [] : 来排除掉这种情况"
   ]
  },
  {
   "attachments": {},
   "cell_type": "markdown",
   "metadata": {},
   "source": [
    "If 结构的常用法 :\n",
    "1. If + return (lazy evaluation example)\n",
    "2. if + flag (while loop example)"
   ]
  },
  {
   "cell_type": "markdown",
   "metadata": {},
   "source": [
    "## For Loop"
   ]
  },
  {
   "cell_type": "code",
   "execution_count": 23,
   "metadata": {},
   "outputs": [
    {
     "name": "stdout",
     "output_type": "stream",
     "text": [
      "1\n",
      "2\n",
      "3\n",
      "4\n",
      "5\n"
     ]
    }
   ],
   "source": [
    "# task: print integers 1 to 5 \n",
    "print(1)\n",
    "print(2)\n",
    "print(3)\n",
    "print(4)\n",
    "print(5)"
   ]
  },
  {
   "cell_type": "code",
   "execution_count": 24,
   "metadata": {},
   "outputs": [
    {
     "name": "stdout",
     "output_type": "stream",
     "text": [
      "1\n",
      "2\n",
      "3\n",
      "4\n",
      "5\n"
     ]
    }
   ],
   "source": [
    "# A better approach is by using loops!\n",
    "for i in range(1,6):\n",
    "    print(i)"
   ]
  },
  {
   "attachments": {},
   "cell_type": "markdown",
   "metadata": {},
   "source": [
    "<b> range(int1,int2,step) </b>\n",
    "<br>range函数能够产生一个 iterable 的容器，里面包括了左开\n",
    "右闭的 int1 到 int2 的所有整数，step 的用法与 list slicing 相同"
   ]
  },
  {
   "cell_type": "code",
   "execution_count": 6,
   "metadata": {},
   "outputs": [
    {
     "name": "stdout",
     "output_type": "stream",
     "text": [
      "[0, 2, 4, 6, 8, 10, 12, 14, 16, 18, 20, 22, 24, 26, 28, 30, 32, 34, 36, 38, 40, 42, 44, 46, 48, 50, 52, 54, 56, 58, 60, 62, 64, 66, 68, 70, 72, 74, 76, 78, 80, 82, 84, 86, 88, 90, 92, 94, 96, 98]\n"
     ]
    }
   ],
   "source": [
    "# generate first 50 even number\n",
    "even_num = []\n",
    "for x in range(0, 99, 2):\n",
    "    even_num.append(x)\n",
    "print(even_num)"
   ]
  },
  {
   "cell_type": "code",
   "execution_count": 26,
   "metadata": {},
   "outputs": [
    {
     "name": "stdout",
     "output_type": "stream",
     "text": [
      "[0, 2, 4, 6, 8, 10, 12, 14, 16, 18]\n",
      "[80, 82, 84, 86, 88, 90, 92, 94, 96, 98]\n",
      "[0, 4, 8, 12, 16, 20, 24, 28, 32, 36, 40]\n"
     ]
    }
   ],
   "source": [
    "print(even_num[:10]) # first ten even number \n",
    "print(even_num[-10:]) # last ten even number\n",
    "print(even_num[0:21:2]) # "
   ]
  },
  {
   "attachments": {},
   "cell_type": "markdown",
   "metadata": {},
   "source": [
    "for loop 最常用的方式是 for i in <b>iterable </b>\n",
    "<br>i 会按顺序成为这个 iterable 中的内容"
   ]
  },
  {
   "attachments": {},
   "cell_type": "markdown",
   "metadata": {},
   "source": [
    "<b> Iterable, by definition stands for objects that can be looped over, where the content can be accessed one by one in a sequence. </b>\n",
    "<br> List, tuple, dictionary, set .etc"
   ]
  },
  {
   "cell_type": "code",
   "execution_count": 11,
   "metadata": {},
   "outputs": [
    {
     "name": "stdout",
     "output_type": "stream",
     "text": [
      "kfc\n",
      "half\n",
      "price\n",
      "\n",
      "\n",
      "0\n",
      "1\n",
      "2\n"
     ]
    }
   ],
   "source": [
    "# list example\n",
    "list = ['kfc', 'half','price']\n",
    "for item in list:\n",
    "    print(item)\n",
    "\n",
    "# string example    \n",
    "my_string = ''\n",
    "for l in my_string:\n",
    "    print(l, end=' ')\n",
    "print(\"\\n\")\n",
    "\n",
    "# for loop 另一个常用的方式是 for i in range(len(iterable))\n",
    "# i represents the index of the iterable \n",
    "for i in range(len(list)):\n",
    "    print(i)\n",
    "# task: what would be len(even_num)?"
   ]
  },
  {
   "attachments": {},
   "cell_type": "markdown",
   "metadata": {},
   "source": [
    "Task: Write a function `sum_digits(num)` that calculates the sum of digits of a positive integer `num`.  \n",
    "_Hint: You would need to perform some type conversion._"
   ]
  },
  {
   "cell_type": "code",
   "execution_count": 28,
   "metadata": {},
   "outputs": [
    {
     "data": {
      "text/plain": [
       "6"
      ]
     },
     "execution_count": 28,
     "metadata": {},
     "output_type": "execute_result"
    }
   ],
   "source": [
    "def sum_digits(num):\n",
    "    # The code block is the actual code that is executed when the function is called\n",
    "    return      \n",
    "    "
   ]
  },
  {
   "cell_type": "code",
   "execution_count": 29,
   "metadata": {},
   "outputs": [
    {
     "data": {
      "text/plain": [
       "{0: 0, 2: 2, 4: 4, 6: 6, 8: 8, 10: 1, 12: 3, 14: 5, 16: 7, 18: 9}"
      ]
     },
     "execution_count": 29,
     "metadata": {},
     "output_type": "execute_result"
    }
   ],
   "source": [
    "even_num_sum = {} # empty dictionary\n",
    "for num in even_num[:10]:\n",
    "    even_num_sum[num] = sum_digits(num)\n",
    "even_num_sum"
   ]
  },
  {
   "attachments": {},
   "cell_type": "markdown",
   "metadata": {},
   "source": [
    "`.keys()` - iterate through the keys of a dictionary, \n",
    "<br>`.values()` - iterate through the values of a dictionary\n",
    "<br>`.items()`, goes through tuples, each containing a key and its corresponding value"
   ]
  },
  {
   "cell_type": "code",
   "execution_count": 30,
   "metadata": {},
   "outputs": [
    {
     "name": "stdout",
     "output_type": "stream",
     "text": [
      "[0, 2, 4, 6, 8, 1, 3, 5, 7, 9]\n",
      "The digit sum of 0 is 0.\n",
      "The digit sum of 2 is 2.\n",
      "The digit sum of 4 is 4.\n",
      "The digit sum of 6 is 6.\n",
      "The digit sum of 8 is 8.\n",
      "The digit sum of 10 is 1.\n",
      "The digit sum of 12 is 3.\n",
      "The digit sum of 14 is 5.\n",
      "The digit sum of 16 is 7.\n",
      "The digit sum of 18 is 9.\n"
     ]
    }
   ],
   "source": [
    "value_list = []\n",
    "for digit_sums in even_num_sum.values():\n",
    "    value_list.append(digit_sums)\n",
    "print(value_list)\n",
    "\n",
    "for key, value in even_num_sum.items():\n",
    "    print(f'The digit sum of {key} is {value}.')"
   ]
  },
  {
   "attachments": {},
   "cell_type": "markdown",
   "metadata": {},
   "source": [
    "#### <b> Iteration with multiple sequences </b>"
   ]
  },
  {
   "cell_type": "code",
   "execution_count": 2,
   "metadata": {},
   "outputs": [
    {
     "name": "stdout",
     "output_type": "stream",
     "text": [
      "Alec with student Id number 1234539 has grade H2B in COMP10001.\n",
      "Bindu with student Id number 8923478 has grade H1 in COMP10001.\n",
      "Clair with student Id number 2398471 has grade P in COMP10001.\n",
      "Dylan with student Id number 2394872 has grade H3 in COMP10001.\n",
      "Elliot with student Id number 2398423 has grade H2B in COMP10001.\n"
     ]
    }
   ],
   "source": [
    "names = ['Alec', 'Bindu', 'Clair', 'Dylan', 'Elliot']\n",
    "student_ids = [1234539, 8923478, 2398471, 2394872, 2398423]\n",
    "grades = ['H2B', 'H1', 'P', 'H3', 'H2B']\n",
    "\n",
    "for i in range(len(names)):\n",
    "    print(f'{names[i]} with student Id number {student_ids[i]} has grade {grades[i]} in COMP10001.')"
   ]
  },
  {
   "cell_type": "code",
   "execution_count": 3,
   "metadata": {},
   "outputs": [
    {
     "name": "stdout",
     "output_type": "stream",
     "text": [
      "Alec with student Id number 1234539 has grade H2B in COMP10001.\n",
      "Bindu with student Id number 8923478 has grade H1 in COMP10001.\n",
      "Clair with student Id number 2398471 has grade P in COMP10001.\n",
      "Dylan with student Id number 2394872 has grade H3 in COMP10001.\n",
      "Elliot with student Id number 2398423 has grade H2B in COMP10001.\n"
     ]
    }
   ],
   "source": [
    "for name, student_id, grade in zip(names, student_ids, grades):\n",
    "    print(f'{name} with student Id number {student_id} has grade {grade} in COMP10001.')"
   ]
  },
  {
   "cell_type": "markdown",
   "metadata": {},
   "source": [
    "for a,b,c, ….  In[tuple1,tuple2,tuple3…..] # note: tuple is (a,b,c,…),tuple 本身的格式和 for 后的 a,b,c,….必须一样"
   ]
  },
  {
   "attachments": {},
   "cell_type": "markdown",
   "metadata": {},
   "source": [
    "Using `zip()` helps make the code slightly more readable, and saves coding time if each iteration were more complex. The output of performing `zip()` with $k$ inputs is an iterable object, where each element is $k$-tuple, with one element from each input."
   ]
  },
  {
   "cell_type": "code",
   "execution_count": 4,
   "metadata": {},
   "outputs": [
    {
     "data": {
      "text/plain": [
       "[('Alec', 1234539, 'H2B'),\n",
       " ('Bindu', 8923478, 'H1'),\n",
       " ('Clair', 2398471, 'P'),\n",
       " ('Dylan', 2394872, 'H3'),\n",
       " ('Elliot', 2398423, 'H2B')]"
      ]
     },
     "execution_count": 4,
     "metadata": {},
     "output_type": "execute_result"
    }
   ],
   "source": [
    "list(zip(names, student_ids, grades))"
   ]
  },
  {
   "cell_type": "markdown",
   "metadata": {},
   "source": [
    "## While Loop"
   ]
  },
  {
   "attachments": {},
   "cell_type": "markdown",
   "metadata": {},
   "source": [
    "while + 条件:\n",
    "1. 条件满足的时候就会执行，如果条件一直满足，就会一直执行\n",
    "2. 所以在使用的时候必须要有明确的停止信号，也就是让 while 后的条件变\n",
    "为 False\n",
    "3. 在简单情况下，我们一般直接在 while loop 后加具体条件\n",
    "4. 在复杂情况下，我们会建立一个变量为 flag = True，然后再 loop 中使用\n",
    "if 条件来将 flag 变为 False"
   ]
  },
  {
   "cell_type": "code",
   "execution_count": 31,
   "metadata": {},
   "outputs": [
    {
     "name": "stdout",
     "output_type": "stream",
     "text": [
      "\n",
      "---------------------while loop start-----------------------\n",
      "\n",
      "0 1 2 3 4 5 "
     ]
    }
   ],
   "source": [
    "l = [1,2,3,4,5]\n",
    "# ---------- while ----------\n",
    "print('\\n---------------------while loop start-----------------------\\n')\n",
    "a = 0\n",
    "while a <= len(l):\n",
    "    print(a,end=' ')\n",
    "    a += 1"
   ]
  },
  {
   "cell_type": "code",
   "execution_count": 32,
   "metadata": {},
   "outputs": [
    {
     "name": "stdout",
     "output_type": "stream",
     "text": [
      "0 1 2 3 4 5 \n",
      "\n",
      "---------------------while loop end-------------------------\n",
      "\n"
     ]
    }
   ],
   "source": [
    "flag = True\n",
    "count = -1\n",
    "while flag:\n",
    "    count += 1\n",
    "    print(count,end=' ')\n",
    "    if count == 5:\n",
    "        flag = False\n",
    "    if type(count) == type(''):\n",
    "        flag = False\n",
    "\n",
    "print('\\n\\n---------------------while loop end-------------------------\\n')"
   ]
  },
  {
   "attachments": {},
   "cell_type": "markdown",
   "metadata": {},
   "source": [
    "#### For loop 和 while loop 的区别\n"
   ]
  },
  {
   "attachments": {},
   "cell_type": "markdown",
   "metadata": {},
   "source": [
    "|Loop |是否需要新建变量 |是否需要停止信号\n",
    "| --- | --- | --- |\n",
    "|For loop |不需要，i 就是变量 |不需要，循环结束则为停止\n",
    "|While loop |需要，来控制循环 |需要，不停止则永远运行"
   ]
  },
  {
   "attachments": {},
   "cell_type": "markdown",
   "metadata": {},
   "source": [
    "<b>Break and continue</b>\n",
    "<br>i. Break 直接停止循环\n",
    "<br>ii. Continue 跳过本次循环，继续下次循环"
   ]
  },
  {
   "cell_type": "code",
   "execution_count": 33,
   "metadata": {},
   "outputs": [
    {
     "name": "stdout",
     "output_type": "stream",
     "text": [
      "\n",
      "break and continue start-----------------------\n",
      "\n",
      "1 2 4 \n",
      "\n",
      "break and continue end-------------------------\n"
     ]
    }
   ],
   "source": [
    "# break and continue\n",
    "print('\\nbreak and continue start-----------------------\\n')\n",
    "a = 0\n",
    "while a <= 6:\n",
    "    a += 1\n",
    "    if a == 3:\n",
    "        continue\n",
    "    print(a,end=' ')\n",
    "    if a == 4:\n",
    "        break\n",
    "\n",
    "print('\\n\\nbreak and continue end-------------------------')"
   ]
  },
  {
   "attachments": {},
   "cell_type": "markdown",
   "metadata": {},
   "source": [
    "##  Try-except-else-finally"
   ]
  },
  {
   "cell_type": "code",
   "execution_count": 34,
   "metadata": {},
   "outputs": [
    {
     "name": "stdout",
     "output_type": "stream",
     "text": [
      "The result of 1 divided by 2 is 0.5\n",
      "Thank you for using this program!\n"
     ]
    }
   ],
   "source": [
    "# ========== 试错结构 ==========\n",
    "try:\n",
    "    # This code may raise an exception\n",
    "    x = int(input(\"Enter a number: \"))\n",
    "    y = int(input(\"Enter another number: \"))\n",
    "    result = x / y\n",
    "except ValueError:\n",
    "    # This will be executed if the input cannot be converted to an integer\n",
    "    print(\"Invalid input! Please enter integers only.\")\n",
    "except ZeroDivisionError:\n",
    "    # This will be executed if the second input is 0\n",
    "    print(\"You cannot divide by zero!\")\n",
    "else:\n",
    "    # This will be executed if no exceptions are raised\n",
    "    print(f\"The result of {x} divided by {y} is {result}\")\n",
    "finally:\n",
    "    # This will always be executed, regardless of whether an exception was raised or not\n",
    "    print(\"Thank you for using this program!\")"
   ]
  },
  {
   "attachments": {},
   "cell_type": "markdown",
   "metadata": {},
   "source": [
    "## Brute Force"
   ]
  },
  {
   "cell_type": "code",
   "execution_count": 35,
   "metadata": {},
   "outputs": [
    {
     "name": "stdout",
     "output_type": "stream",
     "text": [
      "[1, 4, 9, 16, 25, 36, 49, 64, 81, 100, 121, 144, 169, 196, 225, 256, 289, 324, 361, 400, 441, 484, 529, 576, 625, 676, 729, 784, 841, 900, 961, 1024, 1089, 1156, 1225, 1296, 1369, 1444, 1521, 1600, 1681, 1764, 1849, 1936, 2025, 2116, 2209, 2304, 2401, 2500, 2601, 2704, 2809, 2916, 3025, 3136, 3249, 3364, 3481, 3600, 3721, 3844, 3969, 4096, 4225, 4356, 4489, 4624, 4761, 4900, 5041, 5184, 5329, 5476, 5625, 5776, 5929, 6084, 6241, 6400, 6561, 6724, 6889, 7056, 7225, 7396, 7569, 7744, 7921, 8100, 8281, 8464, 8649, 8836, 9025, 9216, 9409, 9604, 9801, 10000]\n"
     ]
    }
   ],
   "source": [
    "# First Generate a list that contains the first 100 perfect square\n",
    "per_sqr = []\n",
    "for i in range(1,101):\n",
    "    per_sqr.append(i*i)\n",
    "print(per_sqr)"
   ]
  },
  {
   "cell_type": "code",
   "execution_count": 36,
   "metadata": {},
   "outputs": [
    {
     "name": "stdout",
     "output_type": "stream",
     "text": [
      "31\n",
      "6889\n"
     ]
    }
   ],
   "source": [
    "# Task: Find the perfect square that has the largest digit sum\n",
    "max = 1\n",
    "num = 1\n",
    "for i in per_sqr:\n",
    "    # implement your code here \n",
    "    "
   ]
  },
  {
   "attachments": {},
   "cell_type": "markdown",
   "metadata": {},
   "source": [
    "<b>通过找到所有解之后来找到最优解 </b>\n",
    "<br>例如 我们要在一万个无序的数据中找到最小值，那么我们就需要通过遍历这个数\n",
    "据集并且更新当前最小值来解决"
   ]
  },
  {
   "attachments": {},
   "cell_type": "markdown",
   "metadata": {},
   "source": [
    "## Lazy Evaluation"
   ]
  },
  {
   "cell_type": "code",
   "execution_count": 37,
   "metadata": {},
   "outputs": [
    {
     "name": "stdout",
     "output_type": "stream",
     "text": [
      "3969\n"
     ]
    }
   ],
   "source": [
    "# Task: Find the first perfect square that has a digit sum of 27\n",
    "num_2 = 0\n",
    "for i in per_sqr:\n",
    "    #implement your code here "
   ]
  },
  {
   "attachments": {},
   "cell_type": "markdown",
   "metadata": {},
   "source": [
    "<b>在找到问题的解之后就停止计算来节省计算资源"
   ]
  },
  {
   "attachments": {},
   "cell_type": "markdown",
   "metadata": {},
   "source": [
    "## home work"
   ]
  },
  {
   "cell_type": "code",
   "execution_count": 38,
   "metadata": {},
   "outputs": [],
   "source": [
    "## Task: 输出 100 以内的素数"
   ]
  }
 ],
 "metadata": {
  "kernelspec": {
   "display_name": "base",
   "language": "python",
   "name": "python3"
  },
  "language_info": {
   "codemirror_mode": {
    "name": "ipython",
    "version": 3
   },
   "file_extension": ".py",
   "mimetype": "text/x-python",
   "name": "python",
   "nbconvert_exporter": "python",
   "pygments_lexer": "ipython3",
   "version": "3.9.13"
  },
  "orig_nbformat": 4
 },
 "nbformat": 4,
 "nbformat_minor": 2
}
