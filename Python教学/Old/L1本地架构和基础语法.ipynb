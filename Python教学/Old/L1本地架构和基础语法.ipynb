{
 "cells": [
  {
   "attachments": {},
   "cell_type": "markdown",
   "metadata": {},
   "source": [
    "## Jacaranda Python 入门课程 - 第一节：本地架构和基础语法\n",
    "                                                    - By 蟹黄小笼包\n",
    "\n",
    "# 课程介绍\n",
    "- 该课程为 Jacaranda社团量化部为未入门 Python 基础的社员提供的辅导课程\n",
    "- 课程内容介绍\n",
    "    - Basic - 编译器的本地建设\n",
    "    - Basic - 基础Python语法\n",
    "    - Extended - 金融数据的处理工具： pandas \n",
    "    - Basic - 代码编写的逻辑\n",
    "- 预期学习成果\n",
    "    - Basic - 能够利用Python语言处理基础的数据\n",
    "    - Basic - 能够利用Python语言处理复杂的金融数据\n",
    "    - Extended - 能够使用Python语言编写独立的交易策略\n",
    "- 课程安排\n",
    "    - 本课程包括六节课，每节课预估时间在 45mins - 60mins\n",
    "- 对应课程\n",
    "    - Uni Melbourne\n",
    "        - Bachelor – Comp10001\n",
    "        - Master – Comp90059\n",
    "    - Uni Sydney\n",
    "        - Bachelor - Info1110\n",
    "        - Master – Info9001\n"
   ]
  },
  {
   "attachments": {},
   "cell_type": "markdown",
   "metadata": {},
   "source": [
    "# Python语言介绍\n",
    "- 可读性强且简单\n",
    "    - 语言块简单易懂\n",
    "        - list().append(‘Python is so easy ！’)\n",
    "            - append 的意思是添加，这个语句的作用是 在list的末尾添加一个 “python is so easy ！” 这句话\n",
    "    - 可嵌入\n",
    "        - 你可以将Python嵌入到C/C++程序，让你的程序的用户获得\"脚本化\"的能力。\n",
    "- 应用面广\n",
    "    - 可以调用很多第三方开源库 基本可以涵盖所有行业的所有需求\n",
    "        - 数据处理库： mysql、pandas、Numpy...\n",
    "        - 数学处理库： Matplotlib、math...\n",
    "        - 爬虫自动化库：selenium、request...\n",
    "        - 金融数据库：tushare...\n",
    "        - 机器学习库: TensorFlow\n",
    "- 商业接口很多\n",
    "    - 绝大多数券商都有API接口\n",
    "    - 绝大多数加密货币平台也有API接口\n",
    "    - 绝大多数金融数据平台也有API接口"
   ]
  },
  {
   "attachments": {},
   "cell_type": "markdown",
   "metadata": {},
   "source": [
    "# 本地架构安装\n",
    "-   VS Code\n",
    "    - https://huaweicloud.csdn.net/63a5665ab878a545459463e1.html?spm=1001.2101.3001.6661.1&utm_medium=distribute.pc_relevant_t0.none-task-blog-2~default~BlogCommendFromBaidu~activity-1-122179913-blog-113793024.pc_relevant_vip_default&depth_1-utm_source=distribute.pc_relevant_t0.none-task-blog-2~default~BlogCommendFromBaidu~activity-1-122179913-blog-113793024.pc_relevant_vip_default&utm_relevant_index=1#1%EF%BC%89%E7%82%B9%E5%87%BB%E8%A7%82%E7%9C%8B%E6%95%99%E7%A8%8B%EF%BC%9B?login=from_csdn"
   ]
  },
  {
   "attachments": {},
   "cell_type": "markdown",
   "metadata": {},
   "source": [
    "# Python的基础语法\n",
    "- 基础的输入输出结构 - IPO模型\n",
    "    - I ： input\n",
    "        - 输入\n",
    "    - P ： process\n",
    "        - 处理\n",
    "    - O ：output\n",
    "        - 输出\n",
    "    - Example：\n",
    "        - 例如需要将一个未排序的数据组合按照升序排序后得到一个正确顺序的数据\n",
    "        - I：未排序的数据组合\n",
    "        - P：将数据排序\n",
    "        - O：排序完成的数据组合"
   ]
  },
  {
   "cell_type": "code",
   "execution_count": 2,
   "metadata": {},
   "outputs": [
    {
     "name": "stdout",
     "output_type": "stream",
     "text": [
      "[0, 1, 2, 3, 4, 5]\n"
     ]
    }
   ],
   "source": [
    "# 这是Input\n",
    "Input = [2,1,3,4,0,5]\n",
    "# 这是Process\n",
    "Input.sort(reverse=False)\n",
    "# 这是Output\n",
    "print(Input)"
   ]
  },
  {
   "attachments": {},
   "cell_type": "markdown",
   "metadata": {},
   "source": [
    "- 基础的输入函数\n",
    "    - input()\n",
    "    - 等待用户输入 并且 读取用户的输入\n",
    "- 基础的输出函数\n",
    "    - print()\n",
    "        -  输出指定内容\n",
    "    - = \n",
    "        - 将指定内容赋值给变量并储存"
   ]
  },
  {
   "cell_type": "code",
   "execution_count": 14,
   "metadata": {},
   "outputs": [
    {
     "name": "stdout",
     "output_type": "stream",
     "text": [
      "python\n",
      "python\n"
     ]
    }
   ],
   "source": [
    "Python = input()\n",
    "print(Python)\n",
    "save_it = Python\n",
    "print(save_it)"
   ]
  },
  {
   "attachments": {},
   "cell_type": "markdown",
   "metadata": {},
   "source": [
    "- Python语言的书写规范\n",
    "    - 缩进\n",
    "        - 缩进表示包含关系，一般是四个空格\n",
    "        - 缩进不一致会报错\n",
    "        - 多行语句 - 用 / 来换行\n",
    "        - 一行内的多行语句 - 用 ; 来续写\n",
    "    - 转义字符 - \\\n",
    "        - 有一些特殊功能是由转义符+字符组成的\n",
    "        - 换行符\\n"
   ]
  },
  {
   "cell_type": "code",
   "execution_count": 15,
   "metadata": {},
   "outputs": [
    {
     "name": "stdout",
     "output_type": "stream",
     "text": [
      "下一行会换行\n",
      "下一行不换行 我在上一句的屁股后边\n"
     ]
    }
   ],
   "source": [
    "for i in '1':\n",
    "    print('下一行会换行',end = '\\n')\n",
    "    print('下一行不换行',end = ' ' )\n",
    "    print('我在上一句的屁股后边')"
   ]
  },
  {
   "cell_type": "code",
   "execution_count": 17,
   "metadata": {},
   "outputs": [
    {
     "ename": "IndentationError",
     "evalue": "unindent does not match any outer indentation level (<tokenize>, line 3)",
     "output_type": "error",
     "traceback": [
      "\u001b[0;36m  File \u001b[0;32m<tokenize>:3\u001b[0;36m\u001b[0m\n\u001b[0;31m    print(2)\u001b[0m\n\u001b[0m    ^\u001b[0m\n\u001b[0;31mIndentationError\u001b[0m\u001b[0;31m:\u001b[0m unindent does not match any outer indentation level\n"
     ]
    }
   ],
   "source": [
    "for i in '1':\n",
    "    print(1)\n",
    "   print(2)"
   ]
  },
  {
   "attachments": {},
   "cell_type": "markdown",
   "metadata": {},
   "source": [
    "- 变量\n",
    "    - 变量是储存数据的基础单位\n",
    "        - 变量名： 变量的名字\n",
    "            - 命名规则\n",
    "                - 大小写敏感： python 和 Python 是两个不同的变量名\n",
    "                - 数字,中文,大小写字母,下划线都可以组成变量名\n",
    "                - 不可以数字开头 ： 1foc 是一个 invalid name\n",
    "                - 不可以和保留字一样\n",
    "                    - 保留字是 python 内部储存信息的名字，变量名不可以与保留字相同\n",
    "                    - 查看保留字的方法\n",
    "        - 数据：L3 - 七大数据储存类型\n",
    "        - 内存地址\n",
    "            - 一个变量在 python 内部的身份证号\n",
    "            - 每一个变量都有自己的身份证号\n",
    "            - 查看内存地址\n",
    "            - 注意变量命名的引用问题\n",
    "        - 注释\n",
    "            - \\# 表示单行注释\n",
    "            - ‘’‘ ’‘’ 三引号表示多行注释\n"
   ]
  },
  {
   "cell_type": "code",
   "execution_count": null,
   "metadata": {},
   "outputs": [
    {
     "name": "stdout",
     "output_type": "stream",
     "text": [
      "['False', 'None', 'True', '__peg_parser__', 'and', 'as', 'assert', 'async', 'await', 'break', 'class', 'continue', 'def', 'del', 'elif', 'else', 'except', 'finally', 'for', 'from', 'global', 'if', 'import', 'in', 'is', 'lambda', 'nonlocal', 'not', 'or', 'pass', 'raise', 'return', 'try', 'while', 'with', 'yield']\n"
     ]
    }
   ],
   "source": [
    "import keyword\n",
    "print(keyword.kwlist)\n",
    "print(id('Python'))"
   ]
  },
  {
   "attachments": {},
   "cell_type": "markdown",
   "metadata": {},
   "source": [
    "# Homework\n",
    "- 完成python编译器的本地安装\n",
    "- 新建一个程序 通过 input 函数输入你的姓名、学校以及学位，并储存在不同的变量名中，并通过 print 函数按顺序输出这些变量以及他的内存地址"
   ]
  }
 ],
 "metadata": {
  "kernelspec": {
   "display_name": "Python 3",
   "language": "python",
   "name": "python3"
  },
  "language_info": {
   "codemirror_mode": {
    "name": "ipython",
    "version": 3
   },
   "file_extension": ".py",
   "mimetype": "text/x-python",
   "name": "python",
   "nbconvert_exporter": "python",
   "pygments_lexer": "ipython3",
   "version": "3.9.13"
  },
  "orig_nbformat": 4,
  "vscode": {
   "interpreter": {
    "hash": "aee8b7b246df8f9039afb4144a1f6fd8d2ca17a180786b69acc140d282b71a49"
   }
  }
 },
 "nbformat": 4,
 "nbformat_minor": 2
}
